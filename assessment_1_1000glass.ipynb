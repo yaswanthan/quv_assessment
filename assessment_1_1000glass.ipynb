{
 "cells": [
  {
   "cell_type": "code",
   "execution_count": 1,
   "id": "5bf517f5",
   "metadata": {},
   "outputs": [],
   "source": [
    "import pandas as pd\n",
    "import math\n"
   ]
  },
  {
   "cell_type": "code",
   "execution_count": 2,
   "id": "0bcd42cf",
   "metadata": {},
   "outputs": [],
   "source": [
    "## There are 1000 bottles"
   ]
  },
  {
   "cell_type": "code",
   "execution_count": 3,
   "id": "d6403fd6",
   "metadata": {},
   "outputs": [],
   "source": [
    "num = [a for a in range(1,1000)]"
   ]
  },
  {
   "cell_type": "code",
   "execution_count": 4,
   "id": "d45af462",
   "metadata": {},
   "outputs": [],
   "source": [
    "df = pd.DataFrame(num,columns=['Glass_of_wine'])"
   ]
  },
  {
   "cell_type": "code",
   "execution_count": 5,
   "id": "ed6ddffa",
   "metadata": {},
   "outputs": [
    {
     "data": {
      "text/html": [
       "<div>\n",
       "<style scoped>\n",
       "    .dataframe tbody tr th:only-of-type {\n",
       "        vertical-align: middle;\n",
       "    }\n",
       "\n",
       "    .dataframe tbody tr th {\n",
       "        vertical-align: top;\n",
       "    }\n",
       "\n",
       "    .dataframe thead th {\n",
       "        text-align: right;\n",
       "    }\n",
       "</style>\n",
       "<table border=\"1\" class=\"dataframe\">\n",
       "  <thead>\n",
       "    <tr style=\"text-align: right;\">\n",
       "      <th></th>\n",
       "      <th>Glass_of_wine</th>\n",
       "    </tr>\n",
       "  </thead>\n",
       "  <tbody>\n",
       "    <tr>\n",
       "      <th>0</th>\n",
       "      <td>1</td>\n",
       "    </tr>\n",
       "    <tr>\n",
       "      <th>1</th>\n",
       "      <td>2</td>\n",
       "    </tr>\n",
       "    <tr>\n",
       "      <th>2</th>\n",
       "      <td>3</td>\n",
       "    </tr>\n",
       "    <tr>\n",
       "      <th>3</th>\n",
       "      <td>4</td>\n",
       "    </tr>\n",
       "    <tr>\n",
       "      <th>4</th>\n",
       "      <td>5</td>\n",
       "    </tr>\n",
       "  </tbody>\n",
       "</table>\n",
       "</div>"
      ],
      "text/plain": [
       "   Glass_of_wine\n",
       "0              1\n",
       "1              2\n",
       "2              3\n",
       "3              4\n",
       "4              5"
      ]
     },
     "execution_count": 5,
     "metadata": {},
     "output_type": "execute_result"
    }
   ],
   "source": [
    "df.head()"
   ]
  },
  {
   "cell_type": "markdown",
   "id": "2fcd8fdc",
   "metadata": {},
   "source": [
    "As there is a only live or not live, we are going with binary"
   ]
  },
  {
   "cell_type": "markdown",
   "id": "a07bf55a",
   "metadata": {},
   "source": [
    "As there are 3 bottles are poissoned, there are 3 combination of 1000"
   ]
  },
  {
   "cell_type": "code",
   "execution_count": 8,
   "id": "e329ed26",
   "metadata": {},
   "outputs": [
    {
     "name": "stdout",
     "output_type": "stream",
     "text": [
      "There are total combination of  166167000\n"
     ]
    }
   ],
   "source": [
    "print(\"There are total combination of \", math.comb(1000, 3)) "
   ]
  },
  {
   "cell_type": "markdown",
   "id": "9b9e00d3",
   "metadata": {},
   "source": [
    "To find how many prisoners we are going to take, we comes up with log of 2 "
   ]
  },
  {
   "cell_type": "code",
   "execution_count": 10,
   "id": "16ccdedd",
   "metadata": {},
   "outputs": [
    {
     "name": "stdout",
     "output_type": "stream",
     "text": [
      "The total number of prisoners who going to drink wines are  28\n"
     ]
    }
   ],
   "source": [
    "print(\"The total number of prisoners who going to drink wines are \",math.ceil(math.log2(math.comb(1000, 3))))\n"
   ]
  },
  {
   "cell_type": "code",
   "execution_count": null,
   "id": "2a2f0d0d",
   "metadata": {},
   "outputs": [],
   "source": [
    "######Calculation of bit"
   ]
  },
  {
   "cell_type": "code",
   "execution_count": 12,
   "id": "b8b14ecd",
   "metadata": {},
   "outputs": [],
   "source": [
    "df['bit'] = df['Glass_of_wine'].apply(lambda x: format(x,'028b'))"
   ]
  },
  {
   "cell_type": "code",
   "execution_count": 13,
   "id": "9fa0a28b",
   "metadata": {},
   "outputs": [
    {
     "data": {
      "text/html": [
       "<div>\n",
       "<style scoped>\n",
       "    .dataframe tbody tr th:only-of-type {\n",
       "        vertical-align: middle;\n",
       "    }\n",
       "\n",
       "    .dataframe tbody tr th {\n",
       "        vertical-align: top;\n",
       "    }\n",
       "\n",
       "    .dataframe thead th {\n",
       "        text-align: right;\n",
       "    }\n",
       "</style>\n",
       "<table border=\"1\" class=\"dataframe\">\n",
       "  <thead>\n",
       "    <tr style=\"text-align: right;\">\n",
       "      <th></th>\n",
       "      <th>Glass_of_wine</th>\n",
       "      <th>bit</th>\n",
       "    </tr>\n",
       "  </thead>\n",
       "  <tbody>\n",
       "    <tr>\n",
       "      <th>0</th>\n",
       "      <td>1</td>\n",
       "      <td>0000000000000000000000000001</td>\n",
       "    </tr>\n",
       "    <tr>\n",
       "      <th>1</th>\n",
       "      <td>2</td>\n",
       "      <td>0000000000000000000000000010</td>\n",
       "    </tr>\n",
       "    <tr>\n",
       "      <th>2</th>\n",
       "      <td>3</td>\n",
       "      <td>0000000000000000000000000011</td>\n",
       "    </tr>\n",
       "    <tr>\n",
       "      <th>3</th>\n",
       "      <td>4</td>\n",
       "      <td>0000000000000000000000000100</td>\n",
       "    </tr>\n",
       "    <tr>\n",
       "      <th>4</th>\n",
       "      <td>5</td>\n",
       "      <td>0000000000000000000000000101</td>\n",
       "    </tr>\n",
       "  </tbody>\n",
       "</table>\n",
       "</div>"
      ],
      "text/plain": [
       "   Glass_of_wine                           bit\n",
       "0              1  0000000000000000000000000001\n",
       "1              2  0000000000000000000000000010\n",
       "2              3  0000000000000000000000000011\n",
       "3              4  0000000000000000000000000100\n",
       "4              5  0000000000000000000000000101"
      ]
     },
     "execution_count": 13,
     "metadata": {},
     "output_type": "execute_result"
    }
   ],
   "source": [
    "df.head()"
   ]
  },
  {
   "cell_type": "code",
   "execution_count": 14,
   "id": "580a3ed8",
   "metadata": {},
   "outputs": [],
   "source": [
    "\n",
    "bit_cols = df['bit'].apply(lambda x: pd.Series(list(x))).astype(int)\n",
    "bit_cols.columns = [f'prisoner_{i+1}' for i in range(28)]\n",
    "\n",
    "df = pd.concat([df, bit_cols], axis=1)\n",
    "\n"
   ]
  },
  {
   "cell_type": "code",
   "execution_count": 16,
   "id": "d3b961ce",
   "metadata": {},
   "outputs": [],
   "source": [
    "# Sample matrix looks like"
   ]
  },
  {
   "cell_type": "code",
   "execution_count": 15,
   "id": "6c373352",
   "metadata": {},
   "outputs": [
    {
     "data": {
      "text/html": [
       "<div>\n",
       "<style scoped>\n",
       "    .dataframe tbody tr th:only-of-type {\n",
       "        vertical-align: middle;\n",
       "    }\n",
       "\n",
       "    .dataframe tbody tr th {\n",
       "        vertical-align: top;\n",
       "    }\n",
       "\n",
       "    .dataframe thead th {\n",
       "        text-align: right;\n",
       "    }\n",
       "</style>\n",
       "<table border=\"1\" class=\"dataframe\">\n",
       "  <thead>\n",
       "    <tr style=\"text-align: right;\">\n",
       "      <th></th>\n",
       "      <th>Glass_of_wine</th>\n",
       "      <th>bit</th>\n",
       "      <th>prisoner_1</th>\n",
       "      <th>prisoner_2</th>\n",
       "      <th>prisoner_3</th>\n",
       "      <th>prisoner_4</th>\n",
       "      <th>prisoner_5</th>\n",
       "      <th>prisoner_6</th>\n",
       "      <th>prisoner_7</th>\n",
       "      <th>prisoner_8</th>\n",
       "      <th>...</th>\n",
       "      <th>prisoner_19</th>\n",
       "      <th>prisoner_20</th>\n",
       "      <th>prisoner_21</th>\n",
       "      <th>prisoner_22</th>\n",
       "      <th>prisoner_23</th>\n",
       "      <th>prisoner_24</th>\n",
       "      <th>prisoner_25</th>\n",
       "      <th>prisoner_26</th>\n",
       "      <th>prisoner_27</th>\n",
       "      <th>prisoner_28</th>\n",
       "    </tr>\n",
       "  </thead>\n",
       "  <tbody>\n",
       "    <tr>\n",
       "      <th>0</th>\n",
       "      <td>1</td>\n",
       "      <td>0000000000000000000000000001</td>\n",
       "      <td>0</td>\n",
       "      <td>0</td>\n",
       "      <td>0</td>\n",
       "      <td>0</td>\n",
       "      <td>0</td>\n",
       "      <td>0</td>\n",
       "      <td>0</td>\n",
       "      <td>0</td>\n",
       "      <td>...</td>\n",
       "      <td>0</td>\n",
       "      <td>0</td>\n",
       "      <td>0</td>\n",
       "      <td>0</td>\n",
       "      <td>0</td>\n",
       "      <td>0</td>\n",
       "      <td>0</td>\n",
       "      <td>0</td>\n",
       "      <td>0</td>\n",
       "      <td>1</td>\n",
       "    </tr>\n",
       "    <tr>\n",
       "      <th>1</th>\n",
       "      <td>2</td>\n",
       "      <td>0000000000000000000000000010</td>\n",
       "      <td>0</td>\n",
       "      <td>0</td>\n",
       "      <td>0</td>\n",
       "      <td>0</td>\n",
       "      <td>0</td>\n",
       "      <td>0</td>\n",
       "      <td>0</td>\n",
       "      <td>0</td>\n",
       "      <td>...</td>\n",
       "      <td>0</td>\n",
       "      <td>0</td>\n",
       "      <td>0</td>\n",
       "      <td>0</td>\n",
       "      <td>0</td>\n",
       "      <td>0</td>\n",
       "      <td>0</td>\n",
       "      <td>0</td>\n",
       "      <td>1</td>\n",
       "      <td>0</td>\n",
       "    </tr>\n",
       "    <tr>\n",
       "      <th>2</th>\n",
       "      <td>3</td>\n",
       "      <td>0000000000000000000000000011</td>\n",
       "      <td>0</td>\n",
       "      <td>0</td>\n",
       "      <td>0</td>\n",
       "      <td>0</td>\n",
       "      <td>0</td>\n",
       "      <td>0</td>\n",
       "      <td>0</td>\n",
       "      <td>0</td>\n",
       "      <td>...</td>\n",
       "      <td>0</td>\n",
       "      <td>0</td>\n",
       "      <td>0</td>\n",
       "      <td>0</td>\n",
       "      <td>0</td>\n",
       "      <td>0</td>\n",
       "      <td>0</td>\n",
       "      <td>0</td>\n",
       "      <td>1</td>\n",
       "      <td>1</td>\n",
       "    </tr>\n",
       "    <tr>\n",
       "      <th>3</th>\n",
       "      <td>4</td>\n",
       "      <td>0000000000000000000000000100</td>\n",
       "      <td>0</td>\n",
       "      <td>0</td>\n",
       "      <td>0</td>\n",
       "      <td>0</td>\n",
       "      <td>0</td>\n",
       "      <td>0</td>\n",
       "      <td>0</td>\n",
       "      <td>0</td>\n",
       "      <td>...</td>\n",
       "      <td>0</td>\n",
       "      <td>0</td>\n",
       "      <td>0</td>\n",
       "      <td>0</td>\n",
       "      <td>0</td>\n",
       "      <td>0</td>\n",
       "      <td>0</td>\n",
       "      <td>1</td>\n",
       "      <td>0</td>\n",
       "      <td>0</td>\n",
       "    </tr>\n",
       "    <tr>\n",
       "      <th>4</th>\n",
       "      <td>5</td>\n",
       "      <td>0000000000000000000000000101</td>\n",
       "      <td>0</td>\n",
       "      <td>0</td>\n",
       "      <td>0</td>\n",
       "      <td>0</td>\n",
       "      <td>0</td>\n",
       "      <td>0</td>\n",
       "      <td>0</td>\n",
       "      <td>0</td>\n",
       "      <td>...</td>\n",
       "      <td>0</td>\n",
       "      <td>0</td>\n",
       "      <td>0</td>\n",
       "      <td>0</td>\n",
       "      <td>0</td>\n",
       "      <td>0</td>\n",
       "      <td>0</td>\n",
       "      <td>1</td>\n",
       "      <td>0</td>\n",
       "      <td>1</td>\n",
       "    </tr>\n",
       "  </tbody>\n",
       "</table>\n",
       "<p>5 rows × 30 columns</p>\n",
       "</div>"
      ],
      "text/plain": [
       "   Glass_of_wine                           bit  prisoner_1  prisoner_2  \\\n",
       "0              1  0000000000000000000000000001           0           0   \n",
       "1              2  0000000000000000000000000010           0           0   \n",
       "2              3  0000000000000000000000000011           0           0   \n",
       "3              4  0000000000000000000000000100           0           0   \n",
       "4              5  0000000000000000000000000101           0           0   \n",
       "\n",
       "   prisoner_3  prisoner_4  prisoner_5  prisoner_6  prisoner_7  prisoner_8  \\\n",
       "0           0           0           0           0           0           0   \n",
       "1           0           0           0           0           0           0   \n",
       "2           0           0           0           0           0           0   \n",
       "3           0           0           0           0           0           0   \n",
       "4           0           0           0           0           0           0   \n",
       "\n",
       "   ...  prisoner_19  prisoner_20  prisoner_21  prisoner_22  prisoner_23  \\\n",
       "0  ...            0            0            0            0            0   \n",
       "1  ...            0            0            0            0            0   \n",
       "2  ...            0            0            0            0            0   \n",
       "3  ...            0            0            0            0            0   \n",
       "4  ...            0            0            0            0            0   \n",
       "\n",
       "   prisoner_24  prisoner_25  prisoner_26  prisoner_27  prisoner_28  \n",
       "0            0            0            0            0            1  \n",
       "1            0            0            0            1            0  \n",
       "2            0            0            0            1            1  \n",
       "3            0            0            1            0            0  \n",
       "4            0            0            1            0            1  \n",
       "\n",
       "[5 rows x 30 columns]"
      ]
     },
     "execution_count": 15,
     "metadata": {},
     "output_type": "execute_result"
    }
   ],
   "source": [
    "df.head()"
   ]
  },
  {
   "cell_type": "markdown",
   "id": "b26b097e",
   "metadata": {},
   "source": [
    "Here 0 mention, he did not drink the glass of wine,\n",
    "1 mention, he drinks the glass of wine"
   ]
  },
  {
   "cell_type": "markdown",
   "id": "5799d606",
   "metadata": {},
   "source": [
    "####  So, from this matrix, with correspond to the person dies, we can find which bottles are poissoned."
   ]
  },
  {
   "cell_type": "code",
   "execution_count": 17,
   "id": "ff5a1e6e",
   "metadata": {},
   "outputs": [],
   "source": [
    "df.to_csv('poisson_detector.csv')"
   ]
  },
  {
   "cell_type": "code",
   "execution_count": null,
   "id": "373d9058",
   "metadata": {},
   "outputs": [],
   "source": []
  }
 ],
 "metadata": {
  "kernelspec": {
   "display_name": "ipl_data",
   "language": "python",
   "name": "python3"
  },
  "language_info": {
   "codemirror_mode": {
    "name": "ipython",
    "version": 3
   },
   "file_extension": ".py",
   "mimetype": "text/x-python",
   "name": "python",
   "nbconvert_exporter": "python",
   "pygments_lexer": "ipython3",
   "version": "3.9.21"
  }
 },
 "nbformat": 4,
 "nbformat_minor": 5
}
